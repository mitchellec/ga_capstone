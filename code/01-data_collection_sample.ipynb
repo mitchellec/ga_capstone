{
 "cells": [
  {
   "cell_type": "markdown",
   "id": "79cb5975-84bd-4775-8ff5-a2c7596467f7",
   "metadata": {},
   "source": [
    "# Data Collection (Sample)\n",
    "\n",
    "***This code notebook shows the functions used and collects a sample of the data. Notebook can be modified to collect all data by changing the paramenters.***"
   ]
  },
  {
   "cell_type": "markdown",
   "id": "cca46f04-30ad-46bf-a2c9-b7b6bc7c8395",
   "metadata": {},
   "source": [
    "## Gathering Data\n",
    "\n",
    "As part of our data collection and for the purpose of learning, we will obtain the data required using API. Typically an API is a great way for developers to allow access to databases and information on a server.\n",
    "\n",
    "Below are the two API that we will be using for the data collection. \n",
    "\n",
    "1. https://partner.steamgames.com/doc/webapi_overview\n",
    "2. https://steamspy.com/about\n",
    "\n",
    "Valve (the company behind Steam) has API available at https://partner.steamgames.com/. An API such as this allows anyone to interface with data on a website in a controlled way, usually providing a host of useful features to the end-user. \n",
    "\n",
    "SteamSpy is a Steam stats-gathering service and crucially has data easily available through its own API. It provides a number of useful metrics including an estimation for total owners of each game."
   ]
  },
  {
   "cell_type": "markdown",
   "id": "a6543e5b",
   "metadata": {},
   "source": [
    "## Problem Statement\n",
    "\n",
    "Using data from Steam Games combined with data from Steam Spy, I will seek to identify the top 10 categories and genres that are available on Steam. \n",
    "\n",
    "Due to lack of unique user data and response in the data collected, a content based recommender will be built for people who would like to have suggestions on other games that they will be interested by taking in an input of another game name.\n",
    "\n",
    "Should time permits, the recommender can be built into an application for others to use."
   ]
  },
  {
   "cell_type": "markdown",
   "id": "7d8b34f0",
   "metadata": {},
   "source": [
    "## Data Collection method\n",
    "\n",
    "Functions are written to collect data using API.\n",
    "\n",
    "Total data estimated to be $51,749$ games details. The data collection is still in progress as limited to only 5,000 game details per iteration. Reason being the following error will be encountered if more that 5,000.<br> `'Connection failed: Too many connections'`\n",
    "\n",
    "The data was fully collected on end of **February 2022**, and all data are accurate to that point. \n",
    "\n",
    "Data collected are stored in *pickle (.pkl)* format to preserve the integrity of the data. This resulted in a larger file but prevents the data from having integrity issues during cleaning. "
   ]
  },
  {
   "cell_type": "markdown",
   "id": "b5ddeb57",
   "metadata": {},
   "source": [
    "## Data Cleaning\n",
    "\n",
    "After data collection is completed, we will then merge the two files into one and keep only required columns for the analysis and modelling. \n",
    "\n",
    "As opposed to pickle, we will store the data into a *database (.db)*. Due to the large number of columns, we will split the data into various tables. "
   ]
  },
  {
   "cell_type": "markdown",
   "id": "30294b61-7c02-4b5f-82b2-8e4eda9da023",
   "metadata": {},
   "source": [
    "---\n",
    "\n",
    "## Import Libraries\n",
    "\n",
    "In this section, we will import all the libraries that will be used in this notebook. "
   ]
  },
  {
   "cell_type": "code",
   "execution_count": 1,
   "id": "ffbed9f8-5209-44d2-b24b-d81375ebb8c5",
   "metadata": {},
   "outputs": [],
   "source": [
    "# To read url\n",
    "import requests\n",
    "\n",
    "# For Calculation and Data Manipulation\n",
    "import numpy as np\n",
    "import pandas as pd\n",
    "\n",
    "# For `.pkl` file exportion folding creation\n",
    "import os\n",
    "\n",
    "# for datetime conversion\n",
    "import datetime\n",
    "\n",
    "# for data collection server buffer time\n",
    "import time\n",
    "\n",
    "# import functions for downloading data\n",
    "from utils import get_request, pkl_output, get_game_data, steam_data_request, steamspy_data_request, batch_process\n",
    "\n",
    "# this setting widens how many characters pandas will display in a column:\n",
    "pd.options.display.max_colwidth = 400"
   ]
  },
  {
   "cell_type": "markdown",
   "id": "114ad4e1-df6b-49b1-bac2-fab9a09ef078",
   "metadata": {},
   "source": [
    "---\n",
    "\n",
    "## Functions\n",
    "\n",
    "In this section, we will list down all the functions that are being used in the notebook as a summary. \n",
    "\n",
    "1. `get_request` : Generic Function to get requests from an API\n",
    "2. `pkl_output` : Function to save dataframe to file\n",
    "3. `get_game_data` : Functions to get data\n",
    "4. `steam_data_request` : Function to get data from steam\n",
    "5. `steamspy_data_request` : Function to get data from steamspy\n",
    "6. `batch_process` : Function to process data obtained in batches\n"
   ]
  },
  {
   "cell_type": "markdown",
   "id": "1ba2e346-0847-4763-9a1f-8ee7e024d504",
   "metadata": {},
   "source": [
    "---\n",
    "\n",
    "### Function : `get_request`\n",
    "\n",
    "`get_request` is used to get requests from an API. \n",
    "\n",
    "We define a generic function to get requests from an API. This function will take in 2 parameters:\n",
    "1. URL in string; and \n",
    "2. API parameters in dictionary form. \n",
    "\n",
    "The API paramenters supplied is passed into the _get requests_ automatically, depending on the API. \n",
    "\n",
    "We will add in a couple of scenarios to getting the response: \n",
    "1. If a SSL Error occurs during extraction, we will wait for 5 seconds before prompting user to advise if they would like to retry (by calling the function again) and providing a feedback during the function run. \n",
    "2. If there is no responses, we wait 10 seconds before retry.\n",
    "\n",
    "In both scenarios, the loop will end once user choose not to continue with getting the response. "
   ]
  },
  {
   "cell_type": "markdown",
   "id": "2ef8b995-2bd9-4ad3-b348-ad537f38f15d",
   "metadata": {},
   "source": [
    "### Function : `pkl_output`\n",
    "\n",
    "A generic function to save dataframe into pkl file. This function will take in 2 parameters:\n",
    "1. filename and path in string; and \n",
    "2. dataframe. \n",
    "\n",
    "The function saves a dataframe into a pkl file. "
   ]
  },
  {
   "cell_type": "markdown",
   "id": "bbf5b0c4-7fa3-40ce-9e4b-956e1a9816d2",
   "metadata": {},
   "source": [
    "---\n",
    "\n",
    "## Generate List of App IDs\n",
    "\n",
    "Every app on steam store has a unique `app ID`, even if the name is the same. This will be our `unique identifier`, which will be used to identify apps between the two extracted data, and eventually merging the tables of data. \n",
    "\n",
    "As such, we will generate a list of `App IDs` which will be used to build our data sets. While it is possible to generate the list of `App IDs` from Steam API from the url (https://api.steampowered.com/ISteamApps/GetAppList/v2/https://api.steampowered.com/ISteamApps/GetAppList/v2/), there is a large number of entries and could possibly consists of demos and videos, we will not be able to tell them apart from just the `App ID`. \n",
    "\n",
    "SteamSpy provides an `'all'` request, supplying some information on the apps they track. While it does not supply all information about each app, it provides a good starting point. \n",
    "\n",
    "After getting the response, we will store it into a pandas dataframe. "
   ]
  },
  {
   "cell_type": "code",
   "execution_count": 2,
   "id": "b685408c-470f-4239-8c80-b67aea95c02e",
   "metadata": {
    "scrolled": true
   },
   "outputs": [
    {
     "name": "stdout",
     "output_type": "stream",
     "text": [
      "Current page: 0\n",
      "Current page: 1\n",
      "Current page: 2\n",
      "Current page: 3\n",
      "Current page: 4\n",
      "Wall time: 4min 10s\n"
     ]
    }
   ],
   "source": [
    "%%time\n",
    "\n",
    "# define url and parameters to get all App IDs\n",
    "url_steamspy = 'https://steamspy.com/api.php'\n",
    "param_appid = {'request' : 'all', 'page': 0}\n",
    "\n",
    "# show the current number of page being scrap\n",
    "print(f'\\rCurrent page: 0')\n",
    "\n",
    "# request 'all' from steamspy and parse into dataframe\n",
    "json_data = get_request(url = url_steamspy, parameters= param_appid)\n",
    "steam_spy_all_df = pd.DataFrame.from_dict(json_data, orient='index')\n",
    "\n",
    "# create page counter\n",
    "counter = 1\n",
    "\n",
    "# create temporary variable that is length 1000 for while loop to work\n",
    "data_add = ['temp']*1000\n",
    "\n",
    "# Create loop for appid extraction\n",
    "# as each iteration will scrap 1000 entries per page, loop continues if data last obtained is 1000\n",
    "while len(data_add) == 1000:\n",
    "    \n",
    "    # to include buffer timing for each request\n",
    "    # API indicated that request is every 60s. \n",
    "    time.sleep(61)\n",
    "    \n",
    "    # show the current number of page being scrap\n",
    "    print(f'\\rCurrent page: {counter}')\n",
    "    \n",
    "    # update 'page' parameter\n",
    "    param_appid['page'] = counter\n",
    "    \n",
    "    # create dataframe by getting the json data\n",
    "    data_add = pd.DataFrame.from_dict(get_request(url = url_steamspy, parameters= param_appid), orient='index')\n",
    "    \n",
    "    # concat the additional data\n",
    "    steam_spy_all_df = pd.concat([steam_spy_all_df, data_add])\n",
    "    \n",
    "    # update counter\n",
    "    counter += 1\n",
    "    \n",
    "    # to comment out only when getting all data as code will take around an hour to get complete data\n",
    "    # used for testing of the below codes\n",
    "    if counter == 5:    # Line A1\n",
    "       break           # Line A2\n",
    "\n",
    "# create pkl file of extraction for future code usage as all data takes about an hour to extract\n",
    "# to remove comment only if all data is being extracted, i.e. line A1 and A2 are being commented out\n",
    "pkl_output('../data/sample_app_id_and_game_list.pkl', steam_spy_all_df.sort_values('appid'))\n",
    "\n",
    "# create dataframe for app_list, keeping only App ID and name\n",
    "app_list = steam_spy_all_df[['appid', 'name']].sort_values('appid').reset_index(drop=True)\n",
    "app_list.rename(columns={'appid': 'app_id', 'name': 'game_name'}, inplace=True)"
   ]
  },
  {
   "cell_type": "code",
   "execution_count": 3,
   "id": "a437e480-7936-490b-a673-a8981ac093d1",
   "metadata": {},
   "outputs": [
    {
     "name": "stdout",
     "output_type": "stream",
     "text": [
      "(5000, 2)\n"
     ]
    },
    {
     "data": {
      "text/html": [
       "<div>\n",
       "<style scoped>\n",
       "    .dataframe tbody tr th:only-of-type {\n",
       "        vertical-align: middle;\n",
       "    }\n",
       "\n",
       "    .dataframe tbody tr th {\n",
       "        vertical-align: top;\n",
       "    }\n",
       "\n",
       "    .dataframe thead th {\n",
       "        text-align: right;\n",
       "    }\n",
       "</style>\n",
       "<table border=\"1\" class=\"dataframe\">\n",
       "  <thead>\n",
       "    <tr style=\"text-align: right;\">\n",
       "      <th></th>\n",
       "      <th>app_id</th>\n",
       "      <th>game_name</th>\n",
       "    </tr>\n",
       "  </thead>\n",
       "  <tbody>\n",
       "    <tr>\n",
       "      <th>0</th>\n",
       "      <td>10</td>\n",
       "      <td>Counter-Strike</td>\n",
       "    </tr>\n",
       "    <tr>\n",
       "      <th>1</th>\n",
       "      <td>20</td>\n",
       "      <td>Team Fortress Classic</td>\n",
       "    </tr>\n",
       "    <tr>\n",
       "      <th>2</th>\n",
       "      <td>30</td>\n",
       "      <td>Day of Defeat</td>\n",
       "    </tr>\n",
       "    <tr>\n",
       "      <th>3</th>\n",
       "      <td>40</td>\n",
       "      <td>Deathmatch Classic</td>\n",
       "    </tr>\n",
       "    <tr>\n",
       "      <th>4</th>\n",
       "      <td>50</td>\n",
       "      <td>Half-Life: Opposing Force</td>\n",
       "    </tr>\n",
       "  </tbody>\n",
       "</table>\n",
       "</div>"
      ],
      "text/plain": [
       "   app_id                  game_name\n",
       "0      10             Counter-Strike\n",
       "1      20      Team Fortress Classic\n",
       "2      30              Day of Defeat\n",
       "3      40         Deathmatch Classic\n",
       "4      50  Half-Life: Opposing Force"
      ]
     },
     "execution_count": 3,
     "metadata": {},
     "output_type": "execute_result"
    }
   ],
   "source": [
    "# look at app list shape and data\n",
    "print(app_list.shape)\n",
    "app_list.head()"
   ]
  },
  {
   "cell_type": "code",
   "execution_count": 4,
   "id": "73ef6422-91b5-4e63-a12b-e078ea190ac8",
   "metadata": {},
   "outputs": [
    {
     "name": "stdout",
     "output_type": "stream",
     "text": [
      "<class 'pandas.core.frame.DataFrame'>\n",
      "RangeIndex: 5000 entries, 0 to 4999\n",
      "Data columns (total 2 columns):\n",
      " #   Column     Non-Null Count  Dtype \n",
      "---  ------     --------------  ----- \n",
      " 0   app_id     5000 non-null   int64 \n",
      " 1   game_name  5000 non-null   object\n",
      "dtypes: int64(1), object(1)\n",
      "memory usage: 78.2+ KB\n"
     ]
    }
   ],
   "source": [
    "# look at app list info to see if there is any null value\n",
    "app_list.info()"
   ]
  },
  {
   "cell_type": "markdown",
   "id": "96307436-0c2a-47f6-835a-ff2360c75a57",
   "metadata": {},
   "source": [
    "---\n",
    "## Define download logic\n",
    "\n",
    "Now that we have the `app_list` dataframe, we can iterate over the App IDs and request individual game data from the servers. \n",
    "\n",
    "As there is alot of data that will be retrieved from the internet, we will avoid attempting to retrieve all at once as any errors or connection time-outs could cause the loss of all retrieved data. For this reason, we define a function to download and process the requests in batches, appending each batch to an external file while keeping track of the highest index. \n",
    "\n",
    "This will allow us to easily restart the process if an error is encountered, but also suggests we can complete the download across multiple sessions. "
   ]
  },
  {
   "cell_type": "markdown",
   "id": "0c88a955-14bc-4ac3-b6ac-8e0e7f4f2093",
   "metadata": {
    "tags": []
   },
   "source": [
    "### Function : `get_game_data`\n",
    "\n",
    "Used to return one batch of game data to the multiple batch process function. It takes in 4 parameters. \n",
    "\n",
    "    1. index for starting value corresponding to app_list\n",
    "    2. index for stopping value corresponding to app_list\n",
    "    3. function that will be used to scrap data\n",
    "    4. integer indicating number of seconds in between each request\n",
    "    \n",
    "The function returns a dataframe to the batch process function."
   ]
  },
  {
   "cell_type": "markdown",
   "id": "1771c660-e147-4ff9-9805-188985cbefb4",
   "metadata": {},
   "source": [
    "### Function : `steam_data_request`\n",
    "\n",
    "Used to scrap data from steam. It takes in 2 parameters. \n",
    "\n",
    "    1. unique identifier of the game\n",
    "    2. name of the game\n",
    "    \n",
    "The function returns a dictionary containing the game data. "
   ]
  },
  {
   "cell_type": "markdown",
   "id": "77ea8dfd-fd4c-4201-913e-89f08e7dd0d9",
   "metadata": {},
   "source": [
    "### Function : `steamspy_data_request`\n",
    "\n",
    "We define 3 functions to get data. \n",
    "\n",
    "Used to scrap data from steamspy. It takes in 2 parameters. \n",
    "\n",
    "    1. unique identifier of the game\n",
    "    2. name of the game\n",
    "    \n",
    "The function returns a dictionary containing the game data. "
   ]
  },
  {
   "cell_type": "markdown",
   "id": "637b04e5-e8a1-4508-86d1-2e9f6b5c6490",
   "metadata": {},
   "source": [
    "### Function : `batch_process`\n",
    "\n",
    "Save dataframes from batch scrapping into pkl file. This function will take in 8 parameters:\n",
    "\n",
    "    1. a function used to scrap data\n",
    "    2. dataframe containing `app_id` and `game_name`\n",
    "    3. file path and name of file output\n",
    "    4. starting index of scrapping dataframe\n",
    "    5. ending index of scrapping dataframe\n",
    "    6. batchsize of each batch request\n",
    "    7. integer indicating pause time between each scrapping\n",
    "    8. integer indicating pause time between each batch\n",
    "\n",
    "The function saves file into a pkl file"
   ]
  },
  {
   "cell_type": "markdown",
   "id": "076c9df1-d831-4cbd-9017-dfa03dbced10",
   "metadata": {},
   "source": [
    "Once all functions are loaded, we will start the data extraction for Steam and Steamspy.\n",
    "\n",
    "---\n",
    "\n",
    "## Download Steam Game\n",
    "\n",
    "We will start downloading the game data for the games identified in our `app_list`. "
   ]
  },
  {
   "cell_type": "code",
   "execution_count": 5,
   "id": "d9a8983b",
   "metadata": {
    "scrolled": true
   },
   "outputs": [
    {
     "name": "stdout",
     "output_type": "stream",
     "text": [
      "Starting at index 0\n",
      "\n",
      "Starting lines 0 to 9 scrapping                        \n",
      "Current index: 0\r"
     ]
    },
    {
     "name": "stderr",
     "output_type": "stream",
     "text": [
      "D:\\GItHub_Projects\\Capstone-working-folder\\code\\utils.py:478: FutureWarning: The frame.append method is deprecated and will be removed from pandas in a future version. Use pandas.concat instead.\n",
      "  game_data = game_data.append(data, ignore_index=True)\n"
     ]
    },
    {
     "name": "stdout",
     "output_type": "stream",
     "text": [
      "Current index: 1\r"
     ]
    },
    {
     "name": "stderr",
     "output_type": "stream",
     "text": [
      "D:\\GItHub_Projects\\Capstone-working-folder\\code\\utils.py:478: FutureWarning: The frame.append method is deprecated and will be removed from pandas in a future version. Use pandas.concat instead.\n",
      "  game_data = game_data.append(data, ignore_index=True)\n"
     ]
    },
    {
     "name": "stdout",
     "output_type": "stream",
     "text": [
      "Current index: 2\r"
     ]
    },
    {
     "name": "stderr",
     "output_type": "stream",
     "text": [
      "D:\\GItHub_Projects\\Capstone-working-folder\\code\\utils.py:478: FutureWarning: The frame.append method is deprecated and will be removed from pandas in a future version. Use pandas.concat instead.\n",
      "  game_data = game_data.append(data, ignore_index=True)\n"
     ]
    },
    {
     "name": "stdout",
     "output_type": "stream",
     "text": [
      "Current index: 3\r"
     ]
    },
    {
     "name": "stderr",
     "output_type": "stream",
     "text": [
      "D:\\GItHub_Projects\\Capstone-working-folder\\code\\utils.py:478: FutureWarning: The frame.append method is deprecated and will be removed from pandas in a future version. Use pandas.concat instead.\n",
      "  game_data = game_data.append(data, ignore_index=True)\n"
     ]
    },
    {
     "name": "stdout",
     "output_type": "stream",
     "text": [
      "Current index: 4\r"
     ]
    },
    {
     "name": "stderr",
     "output_type": "stream",
     "text": [
      "D:\\GItHub_Projects\\Capstone-working-folder\\code\\utils.py:478: FutureWarning: The frame.append method is deprecated and will be removed from pandas in a future version. Use pandas.concat instead.\n",
      "  game_data = game_data.append(data, ignore_index=True)\n"
     ]
    },
    {
     "name": "stdout",
     "output_type": "stream",
     "text": [
      "Current index: 5\r"
     ]
    },
    {
     "name": "stderr",
     "output_type": "stream",
     "text": [
      "D:\\GItHub_Projects\\Capstone-working-folder\\code\\utils.py:478: FutureWarning: The frame.append method is deprecated and will be removed from pandas in a future version. Use pandas.concat instead.\n",
      "  game_data = game_data.append(data, ignore_index=True)\n"
     ]
    },
    {
     "name": "stdout",
     "output_type": "stream",
     "text": [
      "Current index: 6\r"
     ]
    },
    {
     "name": "stderr",
     "output_type": "stream",
     "text": [
      "D:\\GItHub_Projects\\Capstone-working-folder\\code\\utils.py:478: FutureWarning: The frame.append method is deprecated and will be removed from pandas in a future version. Use pandas.concat instead.\n",
      "  game_data = game_data.append(data, ignore_index=True)\n"
     ]
    },
    {
     "name": "stdout",
     "output_type": "stream",
     "text": [
      "Current index: 7\r"
     ]
    },
    {
     "name": "stderr",
     "output_type": "stream",
     "text": [
      "D:\\GItHub_Projects\\Capstone-working-folder\\code\\utils.py:478: FutureWarning: The frame.append method is deprecated and will be removed from pandas in a future version. Use pandas.concat instead.\n",
      "  game_data = game_data.append(data, ignore_index=True)\n"
     ]
    },
    {
     "name": "stdout",
     "output_type": "stream",
     "text": [
      "Current index: 8\r"
     ]
    },
    {
     "name": "stderr",
     "output_type": "stream",
     "text": [
      "D:\\GItHub_Projects\\Capstone-working-folder\\code\\utils.py:478: FutureWarning: The frame.append method is deprecated and will be removed from pandas in a future version. Use pandas.concat instead.\n",
      "  game_data = game_data.append(data, ignore_index=True)\n"
     ]
    },
    {
     "name": "stdout",
     "output_type": "stream",
     "text": [
      "Current index: 9\r"
     ]
    },
    {
     "name": "stderr",
     "output_type": "stream",
     "text": [
      "D:\\GItHub_Projects\\Capstone-working-folder\\code\\utils.py:478: FutureWarning: The frame.append method is deprecated and will be removed from pandas in a future version. Use pandas.concat instead.\n",
      "  game_data = game_data.append(data, ignore_index=True)\n"
     ]
    },
    {
     "name": "stdout",
     "output_type": "stream",
     "text": [
      "Data exported for lines 0 to 9                         \n",
      "Starting lines 10 to 19 scrapping                        \n",
      "Current index: 10\r"
     ]
    },
    {
     "name": "stderr",
     "output_type": "stream",
     "text": [
      "D:\\GItHub_Projects\\Capstone-working-folder\\code\\utils.py:478: FutureWarning: The frame.append method is deprecated and will be removed from pandas in a future version. Use pandas.concat instead.\n",
      "  game_data = game_data.append(data, ignore_index=True)\n"
     ]
    },
    {
     "name": "stdout",
     "output_type": "stream",
     "text": [
      "Current index: 11\r"
     ]
    },
    {
     "name": "stderr",
     "output_type": "stream",
     "text": [
      "D:\\GItHub_Projects\\Capstone-working-folder\\code\\utils.py:478: FutureWarning: The frame.append method is deprecated and will be removed from pandas in a future version. Use pandas.concat instead.\n",
      "  game_data = game_data.append(data, ignore_index=True)\n"
     ]
    },
    {
     "name": "stdout",
     "output_type": "stream",
     "text": [
      "Current index: 12\r"
     ]
    },
    {
     "name": "stderr",
     "output_type": "stream",
     "text": [
      "D:\\GItHub_Projects\\Capstone-working-folder\\code\\utils.py:478: FutureWarning: The frame.append method is deprecated and will be removed from pandas in a future version. Use pandas.concat instead.\n",
      "  game_data = game_data.append(data, ignore_index=True)\n"
     ]
    },
    {
     "name": "stdout",
     "output_type": "stream",
     "text": [
      "Current index: 13\r"
     ]
    },
    {
     "name": "stderr",
     "output_type": "stream",
     "text": [
      "D:\\GItHub_Projects\\Capstone-working-folder\\code\\utils.py:478: FutureWarning: The frame.append method is deprecated and will be removed from pandas in a future version. Use pandas.concat instead.\n",
      "  game_data = game_data.append(data, ignore_index=True)\n"
     ]
    },
    {
     "name": "stdout",
     "output_type": "stream",
     "text": [
      "Current index: 14\r"
     ]
    },
    {
     "name": "stderr",
     "output_type": "stream",
     "text": [
      "D:\\GItHub_Projects\\Capstone-working-folder\\code\\utils.py:478: FutureWarning: The frame.append method is deprecated and will be removed from pandas in a future version. Use pandas.concat instead.\n",
      "  game_data = game_data.append(data, ignore_index=True)\n"
     ]
    },
    {
     "name": "stdout",
     "output_type": "stream",
     "text": [
      "Current index: 15\r"
     ]
    },
    {
     "name": "stderr",
     "output_type": "stream",
     "text": [
      "D:\\GItHub_Projects\\Capstone-working-folder\\code\\utils.py:478: FutureWarning: The frame.append method is deprecated and will be removed from pandas in a future version. Use pandas.concat instead.\n",
      "  game_data = game_data.append(data, ignore_index=True)\n"
     ]
    },
    {
     "name": "stdout",
     "output_type": "stream",
     "text": [
      "Current index: 16\r"
     ]
    },
    {
     "name": "stderr",
     "output_type": "stream",
     "text": [
      "D:\\GItHub_Projects\\Capstone-working-folder\\code\\utils.py:478: FutureWarning: The frame.append method is deprecated and will be removed from pandas in a future version. Use pandas.concat instead.\n",
      "  game_data = game_data.append(data, ignore_index=True)\n"
     ]
    },
    {
     "name": "stdout",
     "output_type": "stream",
     "text": [
      "Current index: 17\r"
     ]
    },
    {
     "name": "stderr",
     "output_type": "stream",
     "text": [
      "D:\\GItHub_Projects\\Capstone-working-folder\\code\\utils.py:478: FutureWarning: The frame.append method is deprecated and will be removed from pandas in a future version. Use pandas.concat instead.\n",
      "  game_data = game_data.append(data, ignore_index=True)\n"
     ]
    },
    {
     "name": "stdout",
     "output_type": "stream",
     "text": [
      "Current index: 18\r"
     ]
    },
    {
     "name": "stderr",
     "output_type": "stream",
     "text": [
      "D:\\GItHub_Projects\\Capstone-working-folder\\code\\utils.py:478: FutureWarning: The frame.append method is deprecated and will be removed from pandas in a future version. Use pandas.concat instead.\n",
      "  game_data = game_data.append(data, ignore_index=True)\n"
     ]
    },
    {
     "name": "stdout",
     "output_type": "stream",
     "text": [
      "Current index: 19\r"
     ]
    },
    {
     "name": "stderr",
     "output_type": "stream",
     "text": [
      "D:\\GItHub_Projects\\Capstone-working-folder\\code\\utils.py:478: FutureWarning: The frame.append method is deprecated and will be removed from pandas in a future version. Use pandas.concat instead.\n",
      "  game_data = game_data.append(data, ignore_index=True)\n"
     ]
    },
    {
     "name": "stdout",
     "output_type": "stream",
     "text": [
      "Data exported for lines 10 to 19                         \n",
      "\n",
      "All batches complete. 20 games extracted\n",
      "<class 'pandas.core.frame.DataFrame'>\n",
      "RangeIndex: 20 entries, 0 to 19\n",
      "Data columns (total 34 columns):\n",
      " #   Column                Non-Null Count  Dtype \n",
      "---  ------                --------------  ----- \n",
      " 0   type                  20 non-null     object\n",
      " 1   name                  20 non-null     object\n",
      " 2   steam_appid           20 non-null     int64 \n",
      " 3   required_age          20 non-null     int64 \n",
      " 4   is_free               20 non-null     bool  \n",
      " 5   detailed_description  20 non-null     object\n",
      " 6   about_the_game        20 non-null     object\n",
      " 7   short_description     20 non-null     object\n",
      " 8   supported_languages   20 non-null     object\n",
      " 9   header_image          20 non-null     object\n",
      " 10  website               9 non-null      object\n",
      " 11  pc_requirements       20 non-null     object\n",
      " 12  mac_requirements      20 non-null     object\n",
      " 13  linux_requirements    20 non-null     object\n",
      " 14  developers            20 non-null     object\n",
      " 15  publishers            20 non-null     object\n",
      " 16  price_overview        18 non-null     object\n",
      " 17  packages              19 non-null     object\n",
      " 18  package_groups        20 non-null     object\n",
      " 19  platforms             20 non-null     object\n",
      " 20  metacritic            12 non-null     object\n",
      " 21  categories            20 non-null     object\n",
      " 22  genres                20 non-null     object\n",
      " 23  screenshots           20 non-null     object\n",
      " 24  recommendations       20 non-null     object\n",
      " 25  release_date          20 non-null     object\n",
      " 26  support_info          20 non-null     object\n",
      " 27  background            20 non-null     object\n",
      " 28  background_raw        20 non-null     object\n",
      " 29  content_descriptors   20 non-null     object\n",
      " 30  dlc                   6 non-null      object\n",
      " 31  achievements          7 non-null      object\n",
      " 32  demos                 2 non-null      object\n",
      " 33  movies                4 non-null      object\n",
      "dtypes: bool(1), int64(2), object(31)\n",
      "memory usage: 5.3+ KB\n",
      "Wall time: 7min 56s\n"
     ]
    }
   ],
   "source": [
    "%%time\n",
    "\n",
    "# if user is interested in obtaining a sample data\n",
    "# instead of running the remaining cell in this section\n",
    "# this cell can be run instead\n",
    "# by removining the comments for lines identified as code\n",
    "\n",
    "# pkl file name to be saved\n",
    "sample_steam_filename = '../data/sample_steam_game_data.pkl'    # code\n",
    "\n",
    "# create empty pickle file for function usage using empty dataframe\n",
    "empty_df = pd.DataFrame()   # code\n",
    "pkl_output(sample_steam_filename, empty_df)   # code\n",
    "\n",
    "# last run index, default is 0 to start scrapping\n",
    "sample_steam_index_value = 0\n",
    "\n",
    "# download game data from steam based on app_list\n",
    "# below are all code\n",
    "batch_process(\n",
    "    fn = steam_data_request,  # Function used to scrap data\n",
    "    app_list = app_list,      # dataframe containing app_id and game_name\n",
    "    data_filename = sample_steam_filename,       # folder/file path and name of file. E.g. '../data/name.pkl'\n",
    "    begin = sample_steam_index_value,      # starting index of scrapping. Default is 0\n",
    "    end=20,                   # last index of scrapping. Default to -1\n",
    "    batchsize=10,           # Size of each batch iteration. Default is 1000\n",
    "    pause=5,                  # value of pause time in seconds for each scrapping. Default is 2 seconds\n",
    "    batch_pause=180                   # value of pause time in seconds for each batch. Default is 300 seconds\n",
    ")\n",
    "\n",
    "# read in sample and look at dataframe\n",
    "sample_steam_game_df = pd.read_pickle(sample_steam_filename)\n",
    "sample_steam_game_df.info()"
   ]
  },
  {
   "cell_type": "code",
   "execution_count": 6,
   "id": "c7a2927c",
   "metadata": {},
   "outputs": [
    {
     "name": "stdout",
     "output_type": "stream",
     "text": [
      "(20, 34)\n"
     ]
    },
    {
     "data": {
      "text/html": [
       "<div>\n",
       "<style scoped>\n",
       "    .dataframe tbody tr th:only-of-type {\n",
       "        vertical-align: middle;\n",
       "    }\n",
       "\n",
       "    .dataframe tbody tr th {\n",
       "        vertical-align: top;\n",
       "    }\n",
       "\n",
       "    .dataframe thead th {\n",
       "        text-align: right;\n",
       "    }\n",
       "</style>\n",
       "<table border=\"1\" class=\"dataframe\">\n",
       "  <thead>\n",
       "    <tr style=\"text-align: right;\">\n",
       "      <th></th>\n",
       "      <th>type</th>\n",
       "      <th>name</th>\n",
       "      <th>steam_appid</th>\n",
       "      <th>required_age</th>\n",
       "      <th>is_free</th>\n",
       "      <th>detailed_description</th>\n",
       "      <th>about_the_game</th>\n",
       "      <th>short_description</th>\n",
       "      <th>supported_languages</th>\n",
       "      <th>header_image</th>\n",
       "      <th>...</th>\n",
       "      <th>recommendations</th>\n",
       "      <th>release_date</th>\n",
       "      <th>support_info</th>\n",
       "      <th>background</th>\n",
       "      <th>background_raw</th>\n",
       "      <th>content_descriptors</th>\n",
       "      <th>dlc</th>\n",
       "      <th>achievements</th>\n",
       "      <th>demos</th>\n",
       "      <th>movies</th>\n",
       "    </tr>\n",
       "  </thead>\n",
       "  <tbody>\n",
       "    <tr>\n",
       "      <th>0</th>\n",
       "      <td>game</td>\n",
       "      <td>Counter-Strike</td>\n",
       "      <td>10</td>\n",
       "      <td>0</td>\n",
       "      <td>False</td>\n",
       "      <td>Play the world's number 1 online action game. Engage in an incredibly realistic brand of terrorist warfare in this wildly popular team-based game. Ally with teammates to complete strategic missions. Take out enemy sites. Rescue hostages. Your role affects your team's success. Your team's success affects your role.</td>\n",
       "      <td>Play the world's number 1 online action game. Engage in an incredibly realistic brand of terrorist warfare in this wildly popular team-based game. Ally with teammates to complete strategic missions. Take out enemy sites. Rescue hostages. Your role affects your team's success. Your team's success affects your role.</td>\n",
       "      <td>Play the world's number 1 online action game. Engage in an incredibly realistic brand of terrorist warfare in this wildly popular team-based game. Ally with teammates to complete strategic missions. Take out enemy sites. Rescue hostages. Your role affects your team's success. Your team's success affects your role.</td>\n",
       "      <td>English&lt;strong&gt;*&lt;/strong&gt;, French&lt;strong&gt;*&lt;/strong&gt;, German&lt;strong&gt;*&lt;/strong&gt;, Italian&lt;strong&gt;*&lt;/strong&gt;, Spanish - Spain&lt;strong&gt;*&lt;/strong&gt;, Simplified Chinese&lt;strong&gt;*&lt;/strong&gt;, Traditional Chinese&lt;strong&gt;*&lt;/strong&gt;, Korean&lt;strong&gt;*&lt;/strong&gt;&lt;br&gt;&lt;strong&gt;*&lt;/strong&gt;languages with full audio support</td>\n",
       "      <td>https://cdn.akamai.steamstatic.com/steam/apps/10/header.jpg?t=1602535893</td>\n",
       "      <td>...</td>\n",
       "      <td>{'total': 119700}</td>\n",
       "      <td>{'coming_soon': False, 'date': '1 Nov, 2000'}</td>\n",
       "      <td>{'url': 'http://steamcommunity.com/app/10', 'email': ''}</td>\n",
       "      <td>https://cdn.akamai.steamstatic.com/steam/apps/10/page_bg_generated_v6b.jpg?t=1602535893</td>\n",
       "      <td>https://cdn.akamai.steamstatic.com/steam/apps/10/page_bg_generated.jpg?t=1602535893</td>\n",
       "      <td>{'ids': [2, 5], 'notes': 'Includes intense violence and blood.'}</td>\n",
       "      <td>NaN</td>\n",
       "      <td>NaN</td>\n",
       "      <td>NaN</td>\n",
       "      <td>NaN</td>\n",
       "    </tr>\n",
       "    <tr>\n",
       "      <th>1</th>\n",
       "      <td>game</td>\n",
       "      <td>Team Fortress Classic</td>\n",
       "      <td>20</td>\n",
       "      <td>0</td>\n",
       "      <td>False</td>\n",
       "      <td>One of the most popular online action games of all time, Team Fortress Classic features over nine character classes -- from Medic to Spy to Demolition Man -- enlisted in a unique style of online team warfare. Each character class possesses unique weapons, items, and abilities, as teams compete online in a variety of game play modes.</td>\n",
       "      <td>One of the most popular online action games of all time, Team Fortress Classic features over nine character classes -- from Medic to Spy to Demolition Man -- enlisted in a unique style of online team warfare. Each character class possesses unique weapons, items, and abilities, as teams compete online in a variety of game play modes.</td>\n",
       "      <td>One of the most popular online action games of all time, Team Fortress Classic features over nine character classes -- from Medic to Spy to Demolition Man -- enlisted in a unique style of online team warfare. Each character class possesses unique weapons, items, and abilities, as teams compete online in a variety of game play modes.</td>\n",
       "      <td>English, French, German, Italian, Spanish - Spain, Korean, Russian, Simplified Chinese, Traditional Chinese</td>\n",
       "      <td>https://cdn.akamai.steamstatic.com/steam/apps/20/header.jpg?t=1579634708</td>\n",
       "      <td>...</td>\n",
       "      <td>{'total': 4547}</td>\n",
       "      <td>{'coming_soon': False, 'date': '1 Apr, 1999'}</td>\n",
       "      <td>{'url': '', 'email': ''}</td>\n",
       "      <td>https://cdn.akamai.steamstatic.com/steam/apps/20/page_bg_generated_v6b.jpg?t=1579634708</td>\n",
       "      <td>https://cdn.akamai.steamstatic.com/steam/apps/20/page_bg_generated.jpg?t=1579634708</td>\n",
       "      <td>{'ids': [2, 5], 'notes': 'Includes intense violence and blood.'}</td>\n",
       "      <td>NaN</td>\n",
       "      <td>NaN</td>\n",
       "      <td>NaN</td>\n",
       "      <td>NaN</td>\n",
       "    </tr>\n",
       "    <tr>\n",
       "      <th>2</th>\n",
       "      <td>game</td>\n",
       "      <td>Day of Defeat</td>\n",
       "      <td>30</td>\n",
       "      <td>0</td>\n",
       "      <td>False</td>\n",
       "      <td>Enlist in an intense brand of Axis vs. Allied teamplay set in the WWII European Theatre of Operations. Players assume the role of light/assault/heavy infantry, sniper or machine-gunner class, each with a unique arsenal of historical weaponry at their disposal. Missions are based on key historical operations. And, as war rages, players must work together with their squad to accomplish a variety...</td>\n",
       "      <td>Enlist in an intense brand of Axis vs. Allied teamplay set in the WWII European Theatre of Operations. Players assume the role of light/assault/heavy infantry, sniper or machine-gunner class, each with a unique arsenal of historical weaponry at their disposal. Missions are based on key historical operations. And, as war rages, players must work together with their squad to accomplish a variety...</td>\n",
       "      <td>Enlist in an intense brand of Axis vs. Allied teamplay set in the WWII European Theatre of Operations. Players assume the role of light/assault/heavy infantry, sniper or machine-gunner class, each with a unique arsenal of historical weaponry at their disposal. Missions are based on key historical operations.</td>\n",
       "      <td>English, French, German, Italian, Spanish - Spain</td>\n",
       "      <td>https://cdn.akamai.steamstatic.com/steam/apps/30/header.jpg?t=1512413490</td>\n",
       "      <td>...</td>\n",
       "      <td>{'total': 3158}</td>\n",
       "      <td>{'coming_soon': False, 'date': '1 May, 2003'}</td>\n",
       "      <td>{'url': '', 'email': ''}</td>\n",
       "      <td>https://cdn.akamai.steamstatic.com/steam/apps/30/page_bg_generated_v6b.jpg?t=1512413490</td>\n",
       "      <td>https://cdn.akamai.steamstatic.com/steam/apps/30/page_bg_generated.jpg?t=1512413490</td>\n",
       "      <td>{'ids': [], 'notes': None}</td>\n",
       "      <td>NaN</td>\n",
       "      <td>NaN</td>\n",
       "      <td>NaN</td>\n",
       "      <td>NaN</td>\n",
       "    </tr>\n",
       "    <tr>\n",
       "      <th>3</th>\n",
       "      <td>game</td>\n",
       "      <td>Deathmatch Classic</td>\n",
       "      <td>40</td>\n",
       "      <td>0</td>\n",
       "      <td>False</td>\n",
       "      <td>Enjoy fast-paced multiplayer gaming with Deathmatch Classic (a.k.a. DMC). Valve's tribute to the work of id software, DMC invites players to grab their rocket launchers and put their reflexes to the test in a collection of futuristic settings.</td>\n",
       "      <td>Enjoy fast-paced multiplayer gaming with Deathmatch Classic (a.k.a. DMC). Valve's tribute to the work of id software, DMC invites players to grab their rocket launchers and put their reflexes to the test in a collection of futuristic settings.</td>\n",
       "      <td>Enjoy fast-paced multiplayer gaming with Deathmatch Classic (a.k.a. DMC). Valve's tribute to the work of id software, DMC invites players to grab their rocket launchers and put their reflexes to the test in a collection of futuristic settings.</td>\n",
       "      <td>English, French, German, Italian, Spanish - Spain, Korean, Russian, Simplified Chinese, Traditional Chinese</td>\n",
       "      <td>https://cdn.akamai.steamstatic.com/steam/apps/40/header.jpg?t=1568752159</td>\n",
       "      <td>...</td>\n",
       "      <td>{'total': 1515}</td>\n",
       "      <td>{'coming_soon': False, 'date': '1 Jun, 2001'}</td>\n",
       "      <td>{'url': '', 'email': ''}</td>\n",
       "      <td>https://cdn.akamai.steamstatic.com/steam/apps/40/page_bg_generated_v6b.jpg?t=1568752159</td>\n",
       "      <td>https://cdn.akamai.steamstatic.com/steam/apps/40/page_bg_generated.jpg?t=1568752159</td>\n",
       "      <td>{'ids': [], 'notes': None}</td>\n",
       "      <td>NaN</td>\n",
       "      <td>NaN</td>\n",
       "      <td>NaN</td>\n",
       "      <td>NaN</td>\n",
       "    </tr>\n",
       "    <tr>\n",
       "      <th>4</th>\n",
       "      <td>game</td>\n",
       "      <td>Half-Life: Opposing Force</td>\n",
       "      <td>50</td>\n",
       "      <td>0</td>\n",
       "      <td>False</td>\n",
       "      <td>Return to the Black Mesa Research Facility as one of the military specialists assigned to eliminate Gordon Freeman. Experience an entirely new episode of single player action. Meet fierce alien opponents, and experiment with new weaponry. Named 'Game of the Year' by the Academy of Interactive Arts and Sciences.</td>\n",
       "      <td>Return to the Black Mesa Research Facility as one of the military specialists assigned to eliminate Gordon Freeman. Experience an entirely new episode of single player action. Meet fierce alien opponents, and experiment with new weaponry. Named 'Game of the Year' by the Academy of Interactive Arts and Sciences.</td>\n",
       "      <td>Return to the Black Mesa Research Facility as one of the military specialists assigned to eliminate Gordon Freeman. Experience an entirely new episode of single player action. Meet fierce alien opponents, and experiment with new weaponry. Named 'Game of the Year' by the Academy of Interactive Arts and Sciences.</td>\n",
       "      <td>English, French, German, Korean</td>\n",
       "      <td>https://cdn.akamai.steamstatic.com/steam/apps/50/header.jpg?t=1579628243</td>\n",
       "      <td>...</td>\n",
       "      <td>{'total': 11627}</td>\n",
       "      <td>{'coming_soon': False, 'date': '1 Nov, 1999'}</td>\n",
       "      <td>{'url': 'https://help.steampowered.com', 'email': ''}</td>\n",
       "      <td>https://cdn.akamai.steamstatic.com/steam/apps/50/page_bg_generated_v6b.jpg?t=1579628243</td>\n",
       "      <td>https://cdn.akamai.steamstatic.com/steam/apps/50/page_bg_generated.jpg?t=1579628243</td>\n",
       "      <td>{'ids': [], 'notes': None}</td>\n",
       "      <td>NaN</td>\n",
       "      <td>NaN</td>\n",
       "      <td>NaN</td>\n",
       "      <td>NaN</td>\n",
       "    </tr>\n",
       "  </tbody>\n",
       "</table>\n",
       "<p>5 rows × 34 columns</p>\n",
       "</div>"
      ],
      "text/plain": [
       "   type                       name  steam_appid  required_age  is_free  \\\n",
       "0  game             Counter-Strike           10             0    False   \n",
       "1  game      Team Fortress Classic           20             0    False   \n",
       "2  game              Day of Defeat           30             0    False   \n",
       "3  game         Deathmatch Classic           40             0    False   \n",
       "4  game  Half-Life: Opposing Force           50             0    False   \n",
       "\n",
       "                                                                                                                                                                                                                                                                                                                                                                                              detailed_description  \\\n",
       "0                                                                                      Play the world's number 1 online action game. Engage in an incredibly realistic brand of terrorist warfare in this wildly popular team-based game. Ally with teammates to complete strategic missions. Take out enemy sites. Rescue hostages. Your role affects your team's success. Your team's success affects your role.   \n",
       "1                                                                   One of the most popular online action games of all time, Team Fortress Classic features over nine character classes -- from Medic to Spy to Demolition Man -- enlisted in a unique style of online team warfare. Each character class possesses unique weapons, items, and abilities, as teams compete online in a variety of game play modes.   \n",
       "2  Enlist in an intense brand of Axis vs. Allied teamplay set in the WWII European Theatre of Operations. Players assume the role of light/assault/heavy infantry, sniper or machine-gunner class, each with a unique arsenal of historical weaponry at their disposal. Missions are based on key historical operations. And, as war rages, players must work together with their squad to accomplish a variety...   \n",
       "3                                                                                                                                                              Enjoy fast-paced multiplayer gaming with Deathmatch Classic (a.k.a. DMC). Valve's tribute to the work of id software, DMC invites players to grab their rocket launchers and put their reflexes to the test in a collection of futuristic settings.   \n",
       "4                                                                                         Return to the Black Mesa Research Facility as one of the military specialists assigned to eliminate Gordon Freeman. Experience an entirely new episode of single player action. Meet fierce alien opponents, and experiment with new weaponry. Named 'Game of the Year' by the Academy of Interactive Arts and Sciences.   \n",
       "\n",
       "                                                                                                                                                                                                                                                                                                                                                                                                    about_the_game  \\\n",
       "0                                                                                      Play the world's number 1 online action game. Engage in an incredibly realistic brand of terrorist warfare in this wildly popular team-based game. Ally with teammates to complete strategic missions. Take out enemy sites. Rescue hostages. Your role affects your team's success. Your team's success affects your role.   \n",
       "1                                                                   One of the most popular online action games of all time, Team Fortress Classic features over nine character classes -- from Medic to Spy to Demolition Man -- enlisted in a unique style of online team warfare. Each character class possesses unique weapons, items, and abilities, as teams compete online in a variety of game play modes.   \n",
       "2  Enlist in an intense brand of Axis vs. Allied teamplay set in the WWII European Theatre of Operations. Players assume the role of light/assault/heavy infantry, sniper or machine-gunner class, each with a unique arsenal of historical weaponry at their disposal. Missions are based on key historical operations. And, as war rages, players must work together with their squad to accomplish a variety...   \n",
       "3                                                                                                                                                              Enjoy fast-paced multiplayer gaming with Deathmatch Classic (a.k.a. DMC). Valve's tribute to the work of id software, DMC invites players to grab their rocket launchers and put their reflexes to the test in a collection of futuristic settings.   \n",
       "4                                                                                         Return to the Black Mesa Research Facility as one of the military specialists assigned to eliminate Gordon Freeman. Experience an entirely new episode of single player action. Meet fierce alien opponents, and experiment with new weaponry. Named 'Game of the Year' by the Academy of Interactive Arts and Sciences.   \n",
       "\n",
       "                                                                                                                                                                                                                                                                                                                                short_description  \\\n",
       "0                     Play the world's number 1 online action game. Engage in an incredibly realistic brand of terrorist warfare in this wildly popular team-based game. Ally with teammates to complete strategic missions. Take out enemy sites. Rescue hostages. Your role affects your team's success. Your team's success affects your role.   \n",
       "1  One of the most popular online action games of all time, Team Fortress Classic features over nine character classes -- from Medic to Spy to Demolition Man -- enlisted in a unique style of online team warfare. Each character class possesses unique weapons, items, and abilities, as teams compete online in a variety of game play modes.   \n",
       "2                           Enlist in an intense brand of Axis vs. Allied teamplay set in the WWII European Theatre of Operations. Players assume the role of light/assault/heavy infantry, sniper or machine-gunner class, each with a unique arsenal of historical weaponry at their disposal. Missions are based on key historical operations.   \n",
       "3                                                                                             Enjoy fast-paced multiplayer gaming with Deathmatch Classic (a.k.a. DMC). Valve's tribute to the work of id software, DMC invites players to grab their rocket launchers and put their reflexes to the test in a collection of futuristic settings.   \n",
       "4                        Return to the Black Mesa Research Facility as one of the military specialists assigned to eliminate Gordon Freeman. Experience an entirely new episode of single player action. Meet fierce alien opponents, and experiment with new weaponry. Named 'Game of the Year' by the Academy of Interactive Arts and Sciences.   \n",
       "\n",
       "                                                                                                                                                                                                                                                                                         supported_languages  \\\n",
       "0  English<strong>*</strong>, French<strong>*</strong>, German<strong>*</strong>, Italian<strong>*</strong>, Spanish - Spain<strong>*</strong>, Simplified Chinese<strong>*</strong>, Traditional Chinese<strong>*</strong>, Korean<strong>*</strong><br><strong>*</strong>languages with full audio support   \n",
       "1                                                                                                                                                                                                English, French, German, Italian, Spanish - Spain, Korean, Russian, Simplified Chinese, Traditional Chinese   \n",
       "2                                                                                                                                                                                                                                                          English, French, German, Italian, Spanish - Spain   \n",
       "3                                                                                                                                                                                                English, French, German, Italian, Spanish - Spain, Korean, Russian, Simplified Chinese, Traditional Chinese   \n",
       "4                                                                                                                                                                                                                                                                            English, French, German, Korean   \n",
       "\n",
       "                                                               header_image  \\\n",
       "0  https://cdn.akamai.steamstatic.com/steam/apps/10/header.jpg?t=1602535893   \n",
       "1  https://cdn.akamai.steamstatic.com/steam/apps/20/header.jpg?t=1579634708   \n",
       "2  https://cdn.akamai.steamstatic.com/steam/apps/30/header.jpg?t=1512413490   \n",
       "3  https://cdn.akamai.steamstatic.com/steam/apps/40/header.jpg?t=1568752159   \n",
       "4  https://cdn.akamai.steamstatic.com/steam/apps/50/header.jpg?t=1579628243   \n",
       "\n",
       "   ...    recommendations                                   release_date  \\\n",
       "0  ...  {'total': 119700}  {'coming_soon': False, 'date': '1 Nov, 2000'}   \n",
       "1  ...    {'total': 4547}  {'coming_soon': False, 'date': '1 Apr, 1999'}   \n",
       "2  ...    {'total': 3158}  {'coming_soon': False, 'date': '1 May, 2003'}   \n",
       "3  ...    {'total': 1515}  {'coming_soon': False, 'date': '1 Jun, 2001'}   \n",
       "4  ...   {'total': 11627}  {'coming_soon': False, 'date': '1 Nov, 1999'}   \n",
       "\n",
       "                                               support_info  \\\n",
       "0  {'url': 'http://steamcommunity.com/app/10', 'email': ''}   \n",
       "1                                  {'url': '', 'email': ''}   \n",
       "2                                  {'url': '', 'email': ''}   \n",
       "3                                  {'url': '', 'email': ''}   \n",
       "4     {'url': 'https://help.steampowered.com', 'email': ''}   \n",
       "\n",
       "                                                                                background  \\\n",
       "0  https://cdn.akamai.steamstatic.com/steam/apps/10/page_bg_generated_v6b.jpg?t=1602535893   \n",
       "1  https://cdn.akamai.steamstatic.com/steam/apps/20/page_bg_generated_v6b.jpg?t=1579634708   \n",
       "2  https://cdn.akamai.steamstatic.com/steam/apps/30/page_bg_generated_v6b.jpg?t=1512413490   \n",
       "3  https://cdn.akamai.steamstatic.com/steam/apps/40/page_bg_generated_v6b.jpg?t=1568752159   \n",
       "4  https://cdn.akamai.steamstatic.com/steam/apps/50/page_bg_generated_v6b.jpg?t=1579628243   \n",
       "\n",
       "                                                                        background_raw  \\\n",
       "0  https://cdn.akamai.steamstatic.com/steam/apps/10/page_bg_generated.jpg?t=1602535893   \n",
       "1  https://cdn.akamai.steamstatic.com/steam/apps/20/page_bg_generated.jpg?t=1579634708   \n",
       "2  https://cdn.akamai.steamstatic.com/steam/apps/30/page_bg_generated.jpg?t=1512413490   \n",
       "3  https://cdn.akamai.steamstatic.com/steam/apps/40/page_bg_generated.jpg?t=1568752159   \n",
       "4  https://cdn.akamai.steamstatic.com/steam/apps/50/page_bg_generated.jpg?t=1579628243   \n",
       "\n",
       "                                                content_descriptors  dlc  \\\n",
       "0  {'ids': [2, 5], 'notes': 'Includes intense violence and blood.'}  NaN   \n",
       "1  {'ids': [2, 5], 'notes': 'Includes intense violence and blood.'}  NaN   \n",
       "2                                        {'ids': [], 'notes': None}  NaN   \n",
       "3                                        {'ids': [], 'notes': None}  NaN   \n",
       "4                                        {'ids': [], 'notes': None}  NaN   \n",
       "\n",
       "  achievements demos movies  \n",
       "0          NaN   NaN    NaN  \n",
       "1          NaN   NaN    NaN  \n",
       "2          NaN   NaN    NaN  \n",
       "3          NaN   NaN    NaN  \n",
       "4          NaN   NaN    NaN  \n",
       "\n",
       "[5 rows x 34 columns]"
      ]
     },
     "execution_count": 6,
     "metadata": {},
     "output_type": "execute_result"
    }
   ],
   "source": [
    "print(sample_steam_game_df.shape)\n",
    "sample_steam_game_df.head()"
   ]
  },
  {
   "cell_type": "markdown",
   "id": "4de25963-db7b-4067-a181-834d6565e3d9",
   "metadata": {},
   "source": [
    "## Download Steamspy Game\n",
    "We will start downloading the game data from steamspy for the games identified in our app_list."
   ]
  },
  {
   "cell_type": "code",
   "execution_count": 7,
   "id": "7eb3fc67",
   "metadata": {
    "scrolled": true
   },
   "outputs": [
    {
     "name": "stdout",
     "output_type": "stream",
     "text": [
      "Starting at index 0\n",
      "\n",
      "Starting lines 0 to 9 scrapping                        \n",
      "Current index: 0\r"
     ]
    },
    {
     "name": "stderr",
     "output_type": "stream",
     "text": [
      "D:\\GItHub_Projects\\Capstone-working-folder\\code\\utils.py:478: FutureWarning: The frame.append method is deprecated and will be removed from pandas in a future version. Use pandas.concat instead.\n",
      "  game_data = game_data.append(data, ignore_index=True)\n"
     ]
    },
    {
     "name": "stdout",
     "output_type": "stream",
     "text": [
      "Current index: 1\r"
     ]
    },
    {
     "name": "stderr",
     "output_type": "stream",
     "text": [
      "D:\\GItHub_Projects\\Capstone-working-folder\\code\\utils.py:478: FutureWarning: The frame.append method is deprecated and will be removed from pandas in a future version. Use pandas.concat instead.\n",
      "  game_data = game_data.append(data, ignore_index=True)\n"
     ]
    },
    {
     "name": "stdout",
     "output_type": "stream",
     "text": [
      "Current index: 2\r"
     ]
    },
    {
     "name": "stderr",
     "output_type": "stream",
     "text": [
      "D:\\GItHub_Projects\\Capstone-working-folder\\code\\utils.py:478: FutureWarning: The frame.append method is deprecated and will be removed from pandas in a future version. Use pandas.concat instead.\n",
      "  game_data = game_data.append(data, ignore_index=True)\n"
     ]
    },
    {
     "name": "stdout",
     "output_type": "stream",
     "text": [
      "Current index: 3\r"
     ]
    },
    {
     "name": "stderr",
     "output_type": "stream",
     "text": [
      "D:\\GItHub_Projects\\Capstone-working-folder\\code\\utils.py:478: FutureWarning: The frame.append method is deprecated and will be removed from pandas in a future version. Use pandas.concat instead.\n",
      "  game_data = game_data.append(data, ignore_index=True)\n"
     ]
    },
    {
     "name": "stdout",
     "output_type": "stream",
     "text": [
      "Current index: 4\r"
     ]
    },
    {
     "name": "stderr",
     "output_type": "stream",
     "text": [
      "D:\\GItHub_Projects\\Capstone-working-folder\\code\\utils.py:478: FutureWarning: The frame.append method is deprecated and will be removed from pandas in a future version. Use pandas.concat instead.\n",
      "  game_data = game_data.append(data, ignore_index=True)\n"
     ]
    },
    {
     "name": "stdout",
     "output_type": "stream",
     "text": [
      "Current index: 5\r"
     ]
    },
    {
     "name": "stderr",
     "output_type": "stream",
     "text": [
      "D:\\GItHub_Projects\\Capstone-working-folder\\code\\utils.py:478: FutureWarning: The frame.append method is deprecated and will be removed from pandas in a future version. Use pandas.concat instead.\n",
      "  game_data = game_data.append(data, ignore_index=True)\n"
     ]
    },
    {
     "name": "stdout",
     "output_type": "stream",
     "text": [
      "Current index: 6\r"
     ]
    },
    {
     "name": "stderr",
     "output_type": "stream",
     "text": [
      "D:\\GItHub_Projects\\Capstone-working-folder\\code\\utils.py:478: FutureWarning: The frame.append method is deprecated and will be removed from pandas in a future version. Use pandas.concat instead.\n",
      "  game_data = game_data.append(data, ignore_index=True)\n"
     ]
    },
    {
     "name": "stdout",
     "output_type": "stream",
     "text": [
      "Current index: 7\r"
     ]
    },
    {
     "name": "stderr",
     "output_type": "stream",
     "text": [
      "D:\\GItHub_Projects\\Capstone-working-folder\\code\\utils.py:478: FutureWarning: The frame.append method is deprecated and will be removed from pandas in a future version. Use pandas.concat instead.\n",
      "  game_data = game_data.append(data, ignore_index=True)\n"
     ]
    },
    {
     "name": "stdout",
     "output_type": "stream",
     "text": [
      "Current index: 8\r"
     ]
    },
    {
     "name": "stderr",
     "output_type": "stream",
     "text": [
      "D:\\GItHub_Projects\\Capstone-working-folder\\code\\utils.py:478: FutureWarning: The frame.append method is deprecated and will be removed from pandas in a future version. Use pandas.concat instead.\n",
      "  game_data = game_data.append(data, ignore_index=True)\n"
     ]
    },
    {
     "name": "stdout",
     "output_type": "stream",
     "text": [
      "Current index: 9\r"
     ]
    },
    {
     "name": "stderr",
     "output_type": "stream",
     "text": [
      "D:\\GItHub_Projects\\Capstone-working-folder\\code\\utils.py:478: FutureWarning: The frame.append method is deprecated and will be removed from pandas in a future version. Use pandas.concat instead.\n",
      "  game_data = game_data.append(data, ignore_index=True)\n"
     ]
    },
    {
     "name": "stdout",
     "output_type": "stream",
     "text": [
      "Data exported for lines 0 to 9                         \n",
      "Starting lines 10 to 19 scrapping                        \n",
      "Current index: 10\r"
     ]
    },
    {
     "name": "stderr",
     "output_type": "stream",
     "text": [
      "D:\\GItHub_Projects\\Capstone-working-folder\\code\\utils.py:478: FutureWarning: The frame.append method is deprecated and will be removed from pandas in a future version. Use pandas.concat instead.\n",
      "  game_data = game_data.append(data, ignore_index=True)\n"
     ]
    },
    {
     "name": "stdout",
     "output_type": "stream",
     "text": [
      "Current index: 11\r"
     ]
    },
    {
     "name": "stderr",
     "output_type": "stream",
     "text": [
      "D:\\GItHub_Projects\\Capstone-working-folder\\code\\utils.py:478: FutureWarning: The frame.append method is deprecated and will be removed from pandas in a future version. Use pandas.concat instead.\n",
      "  game_data = game_data.append(data, ignore_index=True)\n"
     ]
    },
    {
     "name": "stdout",
     "output_type": "stream",
     "text": [
      "Current index: 12\r"
     ]
    },
    {
     "name": "stderr",
     "output_type": "stream",
     "text": [
      "D:\\GItHub_Projects\\Capstone-working-folder\\code\\utils.py:478: FutureWarning: The frame.append method is deprecated and will be removed from pandas in a future version. Use pandas.concat instead.\n",
      "  game_data = game_data.append(data, ignore_index=True)\n"
     ]
    },
    {
     "name": "stdout",
     "output_type": "stream",
     "text": [
      "Current index: 13\r"
     ]
    },
    {
     "name": "stderr",
     "output_type": "stream",
     "text": [
      "D:\\GItHub_Projects\\Capstone-working-folder\\code\\utils.py:478: FutureWarning: The frame.append method is deprecated and will be removed from pandas in a future version. Use pandas.concat instead.\n",
      "  game_data = game_data.append(data, ignore_index=True)\n"
     ]
    },
    {
     "name": "stdout",
     "output_type": "stream",
     "text": [
      "Current index: 14\r"
     ]
    },
    {
     "name": "stderr",
     "output_type": "stream",
     "text": [
      "D:\\GItHub_Projects\\Capstone-working-folder\\code\\utils.py:478: FutureWarning: The frame.append method is deprecated and will be removed from pandas in a future version. Use pandas.concat instead.\n",
      "  game_data = game_data.append(data, ignore_index=True)\n"
     ]
    },
    {
     "name": "stdout",
     "output_type": "stream",
     "text": [
      "Current index: 15\r"
     ]
    },
    {
     "name": "stderr",
     "output_type": "stream",
     "text": [
      "D:\\GItHub_Projects\\Capstone-working-folder\\code\\utils.py:478: FutureWarning: The frame.append method is deprecated and will be removed from pandas in a future version. Use pandas.concat instead.\n",
      "  game_data = game_data.append(data, ignore_index=True)\n"
     ]
    },
    {
     "name": "stdout",
     "output_type": "stream",
     "text": [
      "Current index: 16\r"
     ]
    },
    {
     "name": "stderr",
     "output_type": "stream",
     "text": [
      "D:\\GItHub_Projects\\Capstone-working-folder\\code\\utils.py:478: FutureWarning: The frame.append method is deprecated and will be removed from pandas in a future version. Use pandas.concat instead.\n",
      "  game_data = game_data.append(data, ignore_index=True)\n"
     ]
    },
    {
     "name": "stdout",
     "output_type": "stream",
     "text": [
      "Current index: 17\r"
     ]
    },
    {
     "name": "stderr",
     "output_type": "stream",
     "text": [
      "D:\\GItHub_Projects\\Capstone-working-folder\\code\\utils.py:478: FutureWarning: The frame.append method is deprecated and will be removed from pandas in a future version. Use pandas.concat instead.\n",
      "  game_data = game_data.append(data, ignore_index=True)\n"
     ]
    },
    {
     "name": "stdout",
     "output_type": "stream",
     "text": [
      "Current index: 18\r"
     ]
    },
    {
     "name": "stderr",
     "output_type": "stream",
     "text": [
      "D:\\GItHub_Projects\\Capstone-working-folder\\code\\utils.py:478: FutureWarning: The frame.append method is deprecated and will be removed from pandas in a future version. Use pandas.concat instead.\n",
      "  game_data = game_data.append(data, ignore_index=True)\n"
     ]
    },
    {
     "name": "stdout",
     "output_type": "stream",
     "text": [
      "Current index: 19\r"
     ]
    },
    {
     "name": "stderr",
     "output_type": "stream",
     "text": [
      "D:\\GItHub_Projects\\Capstone-working-folder\\code\\utils.py:478: FutureWarning: The frame.append method is deprecated and will be removed from pandas in a future version. Use pandas.concat instead.\n",
      "  game_data = game_data.append(data, ignore_index=True)\n"
     ]
    },
    {
     "name": "stdout",
     "output_type": "stream",
     "text": [
      "Data exported for lines 10 to 19                         \n",
      "\n",
      "All batches complete. 20 games extracted\n",
      "<class 'pandas.core.frame.DataFrame'>\n",
      "RangeIndex: 20 entries, 0 to 19\n",
      "Data columns (total 20 columns):\n",
      " #   Column           Non-Null Count  Dtype \n",
      "---  ------           --------------  ----- \n",
      " 0   appid            20 non-null     int64 \n",
      " 1   name             20 non-null     object\n",
      " 2   developer        20 non-null     object\n",
      " 3   publisher        20 non-null     object\n",
      " 4   score_rank       20 non-null     object\n",
      " 5   positive         20 non-null     int64 \n",
      " 6   negative         20 non-null     int64 \n",
      " 7   userscore        20 non-null     int64 \n",
      " 8   owners           20 non-null     object\n",
      " 9   average_forever  20 non-null     int64 \n",
      " 10  average_2weeks   20 non-null     int64 \n",
      " 11  median_forever   20 non-null     int64 \n",
      " 12  median_2weeks    20 non-null     int64 \n",
      " 13  price            20 non-null     object\n",
      " 14  initialprice     20 non-null     object\n",
      " 15  discount         20 non-null     object\n",
      " 16  ccu              20 non-null     int64 \n",
      " 17  languages        20 non-null     object\n",
      " 18  genre            20 non-null     object\n",
      " 19  tags             20 non-null     object\n",
      "dtypes: int64(9), object(11)\n",
      "memory usage: 3.2+ KB\n",
      "Wall time: 4min 56s\n"
     ]
    }
   ],
   "source": [
    "%%time\n",
    "\n",
    "# if user is interested in obtaining a sample data\n",
    "# instead of running the remaining cell in this section\n",
    "# this cell can be run instead\n",
    "# by removining the comments for lines identified as code\n",
    "\n",
    "# pkl file name to be saved\n",
    "sample_steamspy_filename = '../data/sample_steamspy_game_data.pkl'    # code\n",
    "\n",
    "# create empty pickle file for function usage using empty dataframe\n",
    "empty_df = pd.DataFrame()\n",
    "pkl_output(sample_steamspy_filename, empty_df)   # code\n",
    "\n",
    "# last run index, default is 0 to start scrapping\n",
    "sample_steamspy_index_value = 0\n",
    "\n",
    "# download game data from steam based on app_list\n",
    "# below are all code\n",
    "batch_process(\n",
    "    fn = steamspy_data_request,  # Function used to scrap data\n",
    "    app_list = app_list,      # dataframe containing app_id and game_name\n",
    "    data_filename = sample_steamspy_filename,       # folder/file path and name of file. E.g. '../data/name.pkl'\n",
    "    begin = sample_steamspy_index_value,      # starting index of scrapping. Default is 0\n",
    "    end=20,                   # last index of scrapping. Default to -1\n",
    "    batchsize=10,           # Size of each batch iteration. Default is 1000\n",
    "    pause=2,                  # value of pause time in seconds for each scrapping. Default is 2 seconds\n",
    "    batch_pause=120                   # value of pause time in seconds for each batch. Default is 300 seconds\n",
    ")\n",
    "\n",
    "# read in sample and look at dataframe\n",
    "sample_steamspy_game_df = pd.read_pickle(sample_steamspy_filename)\n",
    "sample_steamspy_game_df.info()"
   ]
  },
  {
   "cell_type": "code",
   "execution_count": 8,
   "id": "aadf5a95-0c51-4bde-89de-7fb459242347",
   "metadata": {},
   "outputs": [
    {
     "name": "stdout",
     "output_type": "stream",
     "text": [
      "(20, 20)\n"
     ]
    },
    {
     "data": {
      "text/html": [
       "<div>\n",
       "<style scoped>\n",
       "    .dataframe tbody tr th:only-of-type {\n",
       "        vertical-align: middle;\n",
       "    }\n",
       "\n",
       "    .dataframe tbody tr th {\n",
       "        vertical-align: top;\n",
       "    }\n",
       "\n",
       "    .dataframe thead th {\n",
       "        text-align: right;\n",
       "    }\n",
       "</style>\n",
       "<table border=\"1\" class=\"dataframe\">\n",
       "  <thead>\n",
       "    <tr style=\"text-align: right;\">\n",
       "      <th></th>\n",
       "      <th>appid</th>\n",
       "      <th>name</th>\n",
       "      <th>developer</th>\n",
       "      <th>publisher</th>\n",
       "      <th>score_rank</th>\n",
       "      <th>positive</th>\n",
       "      <th>negative</th>\n",
       "      <th>userscore</th>\n",
       "      <th>owners</th>\n",
       "      <th>average_forever</th>\n",
       "      <th>average_2weeks</th>\n",
       "      <th>median_forever</th>\n",
       "      <th>median_2weeks</th>\n",
       "      <th>price</th>\n",
       "      <th>initialprice</th>\n",
       "      <th>discount</th>\n",
       "      <th>ccu</th>\n",
       "      <th>languages</th>\n",
       "      <th>genre</th>\n",
       "      <th>tags</th>\n",
       "    </tr>\n",
       "  </thead>\n",
       "  <tbody>\n",
       "    <tr>\n",
       "      <th>0</th>\n",
       "      <td>10</td>\n",
       "      <td>Counter-Strike</td>\n",
       "      <td>Valve</td>\n",
       "      <td>Valve</td>\n",
       "      <td></td>\n",
       "      <td>194529</td>\n",
       "      <td>4993</td>\n",
       "      <td>0</td>\n",
       "      <td>10,000,000 .. 20,000,000</td>\n",
       "      <td>11319</td>\n",
       "      <td>108</td>\n",
       "      <td>216</td>\n",
       "      <td>142</td>\n",
       "      <td>999</td>\n",
       "      <td>999</td>\n",
       "      <td>0</td>\n",
       "      <td>14447</td>\n",
       "      <td>English, French, German, Italian, Spanish - Spain, Simplified Chinese, Traditional Chinese, Korean</td>\n",
       "      <td>Action</td>\n",
       "      <td>{'Action': 5383, 'FPS': 4807, 'Multiplayer': 3367, 'Shooter': 3332, 'Classic': 2763, 'Team-Based': 1850, 'First-Person': 1697, 'Competitive': 1592, 'Tactical': 1328, '1990's': 1182, 'e-sports': 1178, 'PvP': 868, 'Old School': 753, 'Military': 625, 'Strategy': 607, 'Survival': 297, 'Score Attack': 285, '1980s': 258, 'Assassin': 223, 'Violent': 65}</td>\n",
       "    </tr>\n",
       "    <tr>\n",
       "      <th>1</th>\n",
       "      <td>20</td>\n",
       "      <td>Team Fortress Classic</td>\n",
       "      <td>Valve</td>\n",
       "      <td>Valve</td>\n",
       "      <td></td>\n",
       "      <td>5487</td>\n",
       "      <td>905</td>\n",
       "      <td>0</td>\n",
       "      <td>5,000,000 .. 10,000,000</td>\n",
       "      <td>245</td>\n",
       "      <td>0</td>\n",
       "      <td>22</td>\n",
       "      <td>0</td>\n",
       "      <td>499</td>\n",
       "      <td>499</td>\n",
       "      <td>0</td>\n",
       "      <td>108</td>\n",
       "      <td>English, French, German, Italian, Spanish - Spain, Korean, Russian, Simplified Chinese, Traditional Chinese</td>\n",
       "      <td>Action</td>\n",
       "      <td>{'Action': 746, 'FPS': 307, 'Multiplayer': 258, 'Classic': 233, 'Hero Shooter': 213, 'Shooter': 206, 'Team-Based': 189, 'Class-Based': 182, 'First-Person': 169, '1990's': 133, 'Old School': 106, 'Co-op': 89, 'Competitive': 69, 'Fast-Paced': 62, 'Retro': 55, 'Online Co-Op': 51, 'Violent': 45, 'Mod': 36, 'Funny': 35, 'Remake': 35}</td>\n",
       "    </tr>\n",
       "    <tr>\n",
       "      <th>2</th>\n",
       "      <td>30</td>\n",
       "      <td>Day of Defeat</td>\n",
       "      <td>Valve</td>\n",
       "      <td>Valve</td>\n",
       "      <td></td>\n",
       "      <td>5052</td>\n",
       "      <td>557</td>\n",
       "      <td>0</td>\n",
       "      <td>5,000,000 .. 10,000,000</td>\n",
       "      <td>786</td>\n",
       "      <td>909</td>\n",
       "      <td>9</td>\n",
       "      <td>909</td>\n",
       "      <td>499</td>\n",
       "      <td>499</td>\n",
       "      <td>0</td>\n",
       "      <td>134</td>\n",
       "      <td>English, French, German, Italian, Spanish - Spain</td>\n",
       "      <td>Action</td>\n",
       "      <td>{'FPS': 789, 'World War II': 250, 'Multiplayer': 203, 'Shooter': 188, 'Action': 160, 'War': 151, 'Team-Based': 132, 'Classic': 125, 'First-Person': 105, 'Class-Based': 78, 'Military': 65, 'Historical': 57, 'Tactical': 41, 'Singleplayer': 37, 'Co-op': 34, 'Difficult': 18, 'Old School': 16, 'Retro': 14, 'World War I': 14, 'Strategy': 13}</td>\n",
       "    </tr>\n",
       "    <tr>\n",
       "      <th>3</th>\n",
       "      <td>40</td>\n",
       "      <td>Deathmatch Classic</td>\n",
       "      <td>Valve</td>\n",
       "      <td>Valve</td>\n",
       "      <td></td>\n",
       "      <td>1876</td>\n",
       "      <td>417</td>\n",
       "      <td>0</td>\n",
       "      <td>5,000,000 .. 10,000,000</td>\n",
       "      <td>231</td>\n",
       "      <td>0</td>\n",
       "      <td>17</td>\n",
       "      <td>0</td>\n",
       "      <td>499</td>\n",
       "      <td>499</td>\n",
       "      <td>0</td>\n",
       "      <td>6</td>\n",
       "      <td>English, French, German, Italian, Spanish - Spain, Korean, Russian, Simplified Chinese, Traditional Chinese</td>\n",
       "      <td>Action</td>\n",
       "      <td>{'Action': 630, 'FPS': 140, 'Classic': 108, 'Multiplayer': 97, 'Shooter': 94, 'First-Person': 70, 'Arena Shooter': 45, 'Old School': 33, 'Sci-fi': 33, 'Competitive': 24, 'Fast-Paced': 16, 'Retro': 14, 'Gore': 14, 'Co-op': 13, 'Difficult': 12, '1990's': 8}</td>\n",
       "    </tr>\n",
       "    <tr>\n",
       "      <th>4</th>\n",
       "      <td>50</td>\n",
       "      <td>Half-Life: Opposing Force</td>\n",
       "      <td>Gearbox Software</td>\n",
       "      <td>Valve</td>\n",
       "      <td></td>\n",
       "      <td>13562</td>\n",
       "      <td>675</td>\n",
       "      <td>0</td>\n",
       "      <td>1,000,000 .. 2,000,000</td>\n",
       "      <td>440</td>\n",
       "      <td>37</td>\n",
       "      <td>161</td>\n",
       "      <td>37</td>\n",
       "      <td>499</td>\n",
       "      <td>499</td>\n",
       "      <td>0</td>\n",
       "      <td>91</td>\n",
       "      <td>English, French, German, Korean</td>\n",
       "      <td>Action</td>\n",
       "      <td>{'FPS': 883, 'Action': 324, 'Classic': 252, 'Sci-fi': 249, 'Singleplayer': 226, 'Shooter': 221, 'First-Person': 187, 'Aliens': 173, '1990's': 134, 'Adventure': 115, 'Atmospheric': 105, 'Military': 92, 'Story Rich': 74, 'Silent Protagonist': 66, 'Great Soundtrack': 51, 'Gore': 39, 'Puzzle': 35, 'Co-op': 32, 'Moddable': 29, 'Retro': 17}</td>\n",
       "    </tr>\n",
       "  </tbody>\n",
       "</table>\n",
       "</div>"
      ],
      "text/plain": [
       "   appid                       name         developer publisher score_rank  \\\n",
       "0     10             Counter-Strike             Valve     Valve              \n",
       "1     20      Team Fortress Classic             Valve     Valve              \n",
       "2     30              Day of Defeat             Valve     Valve              \n",
       "3     40         Deathmatch Classic             Valve     Valve              \n",
       "4     50  Half-Life: Opposing Force  Gearbox Software     Valve              \n",
       "\n",
       "   positive  negative  userscore                    owners  average_forever  \\\n",
       "0    194529      4993          0  10,000,000 .. 20,000,000            11319   \n",
       "1      5487       905          0   5,000,000 .. 10,000,000              245   \n",
       "2      5052       557          0   5,000,000 .. 10,000,000              786   \n",
       "3      1876       417          0   5,000,000 .. 10,000,000              231   \n",
       "4     13562       675          0    1,000,000 .. 2,000,000              440   \n",
       "\n",
       "   average_2weeks  median_forever  median_2weeks price initialprice discount  \\\n",
       "0             108             216            142   999          999        0   \n",
       "1               0              22              0   499          499        0   \n",
       "2             909               9            909   499          499        0   \n",
       "3               0              17              0   499          499        0   \n",
       "4              37             161             37   499          499        0   \n",
       "\n",
       "     ccu  \\\n",
       "0  14447   \n",
       "1    108   \n",
       "2    134   \n",
       "3      6   \n",
       "4     91   \n",
       "\n",
       "                                                                                                     languages  \\\n",
       "0           English, French, German, Italian, Spanish - Spain, Simplified Chinese, Traditional Chinese, Korean   \n",
       "1  English, French, German, Italian, Spanish - Spain, Korean, Russian, Simplified Chinese, Traditional Chinese   \n",
       "2                                                            English, French, German, Italian, Spanish - Spain   \n",
       "3  English, French, German, Italian, Spanish - Spain, Korean, Russian, Simplified Chinese, Traditional Chinese   \n",
       "4                                                                              English, French, German, Korean   \n",
       "\n",
       "    genre  \\\n",
       "0  Action   \n",
       "1  Action   \n",
       "2  Action   \n",
       "3  Action   \n",
       "4  Action   \n",
       "\n",
       "                                                                                                                                                                                                                                                                                                                                                           tags  \n",
       "0  {'Action': 5383, 'FPS': 4807, 'Multiplayer': 3367, 'Shooter': 3332, 'Classic': 2763, 'Team-Based': 1850, 'First-Person': 1697, 'Competitive': 1592, 'Tactical': 1328, '1990's': 1182, 'e-sports': 1178, 'PvP': 868, 'Old School': 753, 'Military': 625, 'Strategy': 607, 'Survival': 297, 'Score Attack': 285, '1980s': 258, 'Assassin': 223, 'Violent': 65}  \n",
       "1                    {'Action': 746, 'FPS': 307, 'Multiplayer': 258, 'Classic': 233, 'Hero Shooter': 213, 'Shooter': 206, 'Team-Based': 189, 'Class-Based': 182, 'First-Person': 169, '1990's': 133, 'Old School': 106, 'Co-op': 89, 'Competitive': 69, 'Fast-Paced': 62, 'Retro': 55, 'Online Co-Op': 51, 'Violent': 45, 'Mod': 36, 'Funny': 35, 'Remake': 35}  \n",
       "2             {'FPS': 789, 'World War II': 250, 'Multiplayer': 203, 'Shooter': 188, 'Action': 160, 'War': 151, 'Team-Based': 132, 'Classic': 125, 'First-Person': 105, 'Class-Based': 78, 'Military': 65, 'Historical': 57, 'Tactical': 41, 'Singleplayer': 37, 'Co-op': 34, 'Difficult': 18, 'Old School': 16, 'Retro': 14, 'World War I': 14, 'Strategy': 13}  \n",
       "3                                                                                               {'Action': 630, 'FPS': 140, 'Classic': 108, 'Multiplayer': 97, 'Shooter': 94, 'First-Person': 70, 'Arena Shooter': 45, 'Old School': 33, 'Sci-fi': 33, 'Competitive': 24, 'Fast-Paced': 16, 'Retro': 14, 'Gore': 14, 'Co-op': 13, 'Difficult': 12, '1990's': 8}  \n",
       "4              {'FPS': 883, 'Action': 324, 'Classic': 252, 'Sci-fi': 249, 'Singleplayer': 226, 'Shooter': 221, 'First-Person': 187, 'Aliens': 173, '1990's': 134, 'Adventure': 115, 'Atmospheric': 105, 'Military': 92, 'Story Rich': 74, 'Silent Protagonist': 66, 'Great Soundtrack': 51, 'Gore': 39, 'Puzzle': 35, 'Co-op': 32, 'Moddable': 29, 'Retro': 17}  "
      ]
     },
     "execution_count": 8,
     "metadata": {},
     "output_type": "execute_result"
    }
   ],
   "source": [
    "print(sample_steamspy_game_df.shape)\n",
    "sample_steamspy_game_df.head()"
   ]
  },
  {
   "cell_type": "markdown",
   "id": "5cb19e64",
   "metadata": {},
   "source": [
    "By changing the paramenters, we will be able to get the complete 51,749 data from the servers for both servers.\n",
    "\n",
    "Once full data is obtained, we will clean and merge both datasets before conducting EDA and building a recommender."
   ]
  },
  {
   "cell_type": "code",
   "execution_count": null,
   "id": "29ab6468-fbfd-4cee-9ccb-2e315460f781",
   "metadata": {},
   "outputs": [],
   "source": []
  },
  {
   "cell_type": "code",
   "execution_count": null,
   "id": "7cf42688-3fc6-495e-be8b-3c7d38704ed5",
   "metadata": {},
   "outputs": [],
   "source": []
  }
 ],
 "metadata": {
  "kernelspec": {
   "display_name": "Python 3 (ipykernel)",
   "language": "python",
   "name": "python3"
  },
  "language_info": {
   "codemirror_mode": {
    "name": "ipython",
    "version": 3
   },
   "file_extension": ".py",
   "mimetype": "text/x-python",
   "name": "python",
   "nbconvert_exporter": "python",
   "pygments_lexer": "ipython3",
   "version": "3.9.7"
  }
 },
 "nbformat": 4,
 "nbformat_minor": 5
}
